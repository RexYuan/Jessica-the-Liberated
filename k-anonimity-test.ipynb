{
 "cells": [
  {
   "cell_type": "code",
   "execution_count": 1,
   "metadata": {},
   "outputs": [],
   "source": [
    "import pymysql"
   ]
  },
  {
   "cell_type": "code",
   "execution_count": 3,
   "metadata": {},
   "outputs": [],
   "source": [
    "connection = pymysql.connect(host='localhost',\n",
    "                             user='root',\n",
    "                             database='census99')"
   ]
  },
  {
   "cell_type": "code",
   "execution_count": 8,
   "metadata": {},
   "outputs": [
    {
     "name": "stdout",
     "output_type": "stream",
     "text": [
      "2, 16 : 43637\n",
      "1, 16 : 40214\n",
      "1, 15 : 49255\n"
     ]
    }
   ],
   "source": [
    "# The value of k for k-anonymity test\n",
    "k = 50000\n",
    "\n",
    "# Define the fields you want to use (can be changed easily)\n",
    "fields = [\"C010_GENDER\", \"C020_AGE\"]\n",
    "\n",
    "# Create the GROUP BY clause dynamically based on the fields\n",
    "group_by_clause = \", \".join(fields)\n",
    "\n",
    "# SQL command to count the occurrences of each combination of fields dynamically\n",
    "count_command = f\"\"\"\n",
    "    SELECT {group_by_clause}, COUNT(*)\n",
    "    FROM people\n",
    "    GROUP BY {group_by_clause}\n",
    "\"\"\"\n",
    "\n",
    "# Create a cursor object to interact with the database\n",
    "with connection.cursor() as cursor:\n",
    "    # Execute the SQL query\n",
    "    cursor.execute(count_command)\n",
    "\n",
    "    # Fetch the result\n",
    "    result = cursor.fetchall()\n",
    "\n",
    "    # Check if any group has fewer than k occurrences\n",
    "    for row in result:\n",
    "        combination = \", \".join(map(str, row[:-1]))  # Fields combination (excluding count)\n",
    "        count = row[-1]  # The count value is the last column\n",
    "        if count < k:\n",
    "            print(f\"{combination} : {count}\")\n"
   ]
  }
 ],
 "metadata": {
  "kernelspec": {
   "display_name": "sql",
   "language": "python",
   "name": "python3"
  },
  "language_info": {
   "codemirror_mode": {
    "name": "ipython",
    "version": 3
   },
   "file_extension": ".py",
   "mimetype": "text/x-python",
   "name": "python",
   "nbconvert_exporter": "python",
   "pygments_lexer": "ipython3",
   "version": "3.13.0"
  }
 },
 "nbformat": 4,
 "nbformat_minor": 2
}
